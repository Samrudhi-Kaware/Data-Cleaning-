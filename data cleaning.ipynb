{
 "cells": [
  {
   "cell_type": "markdown",
   "metadata": {},
   "source": [
    "# Data Cleaning"
   ]
  },
  {
   "cell_type": "markdown",
   "metadata": {},
   "source": [
    "## Introduction"
   ]
  },
  {
   "cell_type": "markdown",
   "metadata": {},
   "source": [
    "This notebook goes through a necessary step of any data science project - data cleaning. Data cleaning is a time consuming and unenjoyable task, yet it's a very important one. Keep in mind, \"garbage in, garbage out\". Feeding dirty data into a model will give us results that are meaningless.\n",
    "\n",
    "Specifically, we'll be walking through:\n",
    "\n",
    "1. **Getting the data - **in this case, we'll be scraping data from a website\n",
    "2. **Cleaning the data - **we will walk through popular text pre-processing techniques\n",
    "3. **Organizing the data - **we will organize the cleaned data into a way that is easy to input into other algorithms\n",
    "\n",
    "The output of this notebook will be clean, organized data in two standard text formats:\n",
    "\n",
    "1. **Corpus** - a collection of text\n",
    "2. **Document-Term Matrix** - word counts in matrix format"
   ]
  },
  {
   "cell_type": "markdown",
   "metadata": {},
   "source": [
    "## Problem Statement"
   ]
  },
  {
   "cell_type": "markdown",
   "metadata": {},
   "source": [
    "As a reminder, our goal is to look at transcripts of various comedians and note their similarities and differences. Specifically, I'd like to know if Ali Wong's comedy style is different than other comedians, since she's the comedian that got me interested in stand up comedy."
   ]
  },
  {
   "cell_type": "markdown",
   "metadata": {},
   "source": [
    "## Getting The Data"
   ]
  },
  {
   "cell_type": "markdown",
   "metadata": {},
   "source": [
    "Luckily, there are wonderful people online that keep track of stand up routine transcripts. [Scraps From The Loft](http://scrapsfromtheloft.com) makes them available for non-profit and educational purposes.\n",
    "\n",
    "To decide which comedians to look into, I went on IMDB and looked specifically at comedy specials that were released in the past 5 years. To narrow it down further, I looked only at those with greater than a 7.5/10 rating and more than 2000 votes. If a comedian had multiple specials that fit those requirements, I would pick the most highly rated one. I ended up with a dozen comedy specials."
   ]
  },
  {
   "cell_type": "code",
   "execution_count": 1,
   "metadata": {},
   "outputs": [],
   "source": [
    "# Web scraping, pickle imports\n",
    "import requests\n",
    "from bs4 import BeautifulSoup\n",
    "import pickle\n",
    "\n",
    "# Scrapes transcript data from scrapsfromtheloft.com\n",
    "def url_to_transcript(url):\n",
    "    '''Returns transcript data specifically from scrapsfromtheloft.com.'''\n",
    "    page = requests.get(url).text\n",
    "    soup = BeautifulSoup(page, \"lxml\")\n",
    "    text = [p.text for p in soup.find(class_=\"post-content\").find_all('p')]\n",
    "    print(url)\n",
    "    return text\n",
    "\n",
    "# URLs of transcripts in scope\n",
    "urls = ['https://scrapsfromtheloft.com/2020/07/04/public-shaming-last-week-tonight-with-john-oliver-transcript/',\n",
    "        'https://scrapsfromtheloft.com/2020/07/03/interview-with-pauline-kael-modern-maturity/',\n",
    "        'https://scrapsfromtheloft.com/2020/07/02/the-deer-hunter-review-david-denby-new-york-magazine/']\n",
    "\n",
    "#  names\n",
    "\n",
    "magazinewriter = ['John oliver', 'pauline kael', 'david denby']"
   ]
  },
  {
   "cell_type": "code",
   "execution_count": 2,
   "metadata": {},
   "outputs": [
    {
     "name": "stdout",
     "output_type": "stream",
     "text": [
      "https://scrapsfromtheloft.com/2020/07/04/public-shaming-last-week-tonight-with-john-oliver-transcript/\n",
      "https://scrapsfromtheloft.com/2020/07/03/interview-with-pauline-kael-modern-maturity/\n",
      "https://scrapsfromtheloft.com/2020/07/02/the-deer-hunter-review-david-denby-new-york-magazine/\n"
     ]
    }
   ],
   "source": [
    "# # Actually request transcripts (takes a few minutes to run)\n",
    "transcripts = [url_to_transcript(u) for u in urls]"
   ]
  },
  {
   "cell_type": "code",
   "execution_count": 3,
   "metadata": {},
   "outputs": [],
   "source": [
    "# # Pickle files for later use\n",
    "\n",
    "# # Make a new directory to hold the text files\n",
    "#!mkdir transcripts\n",
    "\n",
    "for i, c in enumerate(magazinewriter):\n",
    "    with open(\"transcripts/\" + c + \".txt\", \"wb\") as file:\n",
    "        pickle.dump(transcripts[i], file)"
   ]
  },
  {
   "cell_type": "code",
   "execution_count": 4,
   "metadata": {},
   "outputs": [],
   "source": [
    "# Load pickled files\n",
    "data = {}\n",
    "for i, c in enumerate(magazinewriter):\n",
    "    with open(\"transcripts/\" + c + \".txt\", \"rb\") as file:\n",
    "        data[c] = pickle.load(file)"
   ]
  },
  {
   "cell_type": "code",
   "execution_count": 5,
   "metadata": {},
   "outputs": [
    {
     "data": {
      "text/plain": [
       "dict_keys(['John oliver', 'pauline kael', 'david denby'])"
      ]
     },
     "execution_count": 5,
     "metadata": {},
     "output_type": "execute_result"
    }
   ],
   "source": [
    "# Double check to make sure data has been loaded properly\n",
    "data.keys()"
   ]
  },
  {
   "cell_type": "code",
   "execution_count": 6,
   "metadata": {},
   "outputs": [
    {
     "data": {
      "text/plain": [
       "['Last Week Tonight with John Oliver\\nAired on March 17, 2019',\n",
       " 'John Oliver talks about the Christchurch mosque shootings, Brexit, and the power of public shaming, good and bad. With an interview with Monica Lewinsky.']"
      ]
     },
     "execution_count": 6,
     "metadata": {},
     "output_type": "execute_result"
    }
   ],
   "source": [
    "# More checks\n",
    "data['John oliver'][:2]"
   ]
  },
  {
   "cell_type": "markdown",
   "metadata": {},
   "source": [
    "## Cleaning The Data"
   ]
  },
  {
   "cell_type": "markdown",
   "metadata": {},
   "source": [
    "When dealing with numerical data, data cleaning often involves removing null values and duplicate data, dealing with outliers, etc. With text data, there are some common data cleaning techniques, which are also known as text pre-processing techniques.\n",
    "\n",
    "With text data, this cleaning process can go on forever. There's always an exception to every cleaning step. So, we're going to follow the MVP (minimum viable product) approach - start simple and iterate. Here are a bunch of things you can do to clean your data. We're going to execute just the common cleaning steps here and the rest can be done at a later point to improve our results.\n",
    "\n",
    "**Common data cleaning steps on all text:**\n",
    "* Make text all lower case\n",
    "* Remove punctuation\n",
    "* Remove numerical values\n",
    "* Remove common non-sensical text (/n)\n",
    "* Tokenize text\n",
    "* Remove stop words\n",
    "\n",
    "**More data cleaning steps after tokenization:**\n",
    "* Stemming / lemmatization\n",
    "* Parts of speech tagging\n",
    "* Create bi-grams or tri-grams\n",
    "* Deal with typos\n",
    "* And more..."
   ]
  },
  {
   "cell_type": "code",
   "execution_count": 7,
   "metadata": {},
   "outputs": [
    {
     "data": {
      "text/plain": [
       "'John oliver'"
      ]
     },
     "execution_count": 7,
     "metadata": {},
     "output_type": "execute_result"
    }
   ],
   "source": [
    "# Let's take a look at our data again\n",
    "next(iter(data.keys()))"
   ]
  },
  {
   "cell_type": "code",
   "execution_count": null,
   "metadata": {},
   "outputs": [],
   "source": [
    "# Notice that our dictionary is currently in key: comedian, value: list of text format\n",
    "next(iter(data.values()))"
   ]
  },
  {
   "cell_type": "code",
   "execution_count": 8,
   "metadata": {},
   "outputs": [],
   "source": [
    "# We are going to change this to key: comedian, value: string format\n",
    "def combine_text(list_of_text):\n",
    "    '''Takes a list of text and combines them into one large chunk of text.'''\n",
    "    combined_text = ' '.join(list_of_text)\n",
    "    return combined_text"
   ]
  },
  {
   "cell_type": "code",
   "execution_count": 9,
   "metadata": {},
   "outputs": [],
   "source": [
    "# Combine it!\n",
    "data_combined = {key: [combine_text(value)] for (key, value) in data.items()}"
   ]
  },
  {
   "cell_type": "code",
   "execution_count": 10,
   "metadata": {},
   "outputs": [
    {
     "data": {
      "text/html": [
       "<div>\n",
       "<style scoped>\n",
       "    .dataframe tbody tr th:only-of-type {\n",
       "        vertical-align: middle;\n",
       "    }\n",
       "\n",
       "    .dataframe tbody tr th {\n",
       "        vertical-align: top;\n",
       "    }\n",
       "\n",
       "    .dataframe thead th {\n",
       "        text-align: right;\n",
       "    }\n",
       "</style>\n",
       "<table border=\"1\" class=\"dataframe\">\n",
       "  <thead>\n",
       "    <tr style=\"text-align: right;\">\n",
       "      <th></th>\n",
       "      <th>transcript</th>\n",
       "    </tr>\n",
       "  </thead>\n",
       "  <tbody>\n",
       "    <tr>\n",
       "      <th>John oliver</th>\n",
       "      <td>Last Week Tonight with John Oliver\\nAired on March 17, 2019 John Oliver talks about the Christchurch mosque shootings, Brexit, and the power of pu...</td>\n",
       "    </tr>\n",
       "    <tr>\n",
       "      <th>david denby</th>\n",
       "      <td>“. . . It’s easy to destroy The Deer Hunter: You make it sound like a cartoon, then you attack the cartoon for its shallowness . . .” by David Den...</td>\n",
       "    </tr>\n",
       "    <tr>\n",
       "      <th>pauline kael</th>\n",
       "      <td>Interview conducted by Susan Goodman Day One: Sitting in the living room of Pauline Kael’s home in western Massachusetts, I asked her if editors e...</td>\n",
       "    </tr>\n",
       "  </tbody>\n",
       "</table>\n",
       "</div>"
      ],
      "text/plain": [
       "                                                                                                                                                         transcript\n",
       "John oliver   Last Week Tonight with John Oliver\\nAired on March 17, 2019 John Oliver talks about the Christchurch mosque shootings, Brexit, and the power of pu...\n",
       "david denby   “. . . It’s easy to destroy The Deer Hunter: You make it sound like a cartoon, then you attack the cartoon for its shallowness . . .” by David Den...\n",
       "pauline kael  Interview conducted by Susan Goodman Day One: Sitting in the living room of Pauline Kael’s home in western Massachusetts, I asked her if editors e..."
      ]
     },
     "execution_count": 10,
     "metadata": {},
     "output_type": "execute_result"
    }
   ],
   "source": [
    "# We can either keep it in dictionary format or put it into a pandas dataframe\n",
    "import pandas as pd\n",
    "pd.set_option('max_colwidth',150)\n",
    "\n",
    "data_df = pd.DataFrame.from_dict(data_combined).transpose()\n",
    "data_df.columns = ['transcript']\n",
    "data_df = data_df.sort_index()\n",
    "data_df"
   ]
  },
  {
   "cell_type": "code",
   "execution_count": 11,
   "metadata": {},
   "outputs": [
    {
     "data": {
      "text/plain": [
       "'Last Week Tonight with John Oliver\\nAired on March 17, 2019 John Oliver talks about the Christchurch mosque shootings, Brexit, and the power of public shaming, good and bad. With an interview with Monica Lewinsky. Welcome, welcome, welcome to “Last Week Tonight.” I’m John Oliver. Thank you so much for joining us. Unfortunately, we must begin with the tragic events in Christchurch, where 50 people were killed and many injured when a white supremacist terrorist attacked two mosques. And look, this wasn’t just a disgusting act from a fucking asshole. It was an affront to the basic values of the people of New Zealand, as their prime minister pointed out. We were not chosen for this act of violence because we condone racism, because we’re an enclave for extremism. We were chosen for the very fact that we are none of these things. She’s absolutely right, because New Zealand is an incredible place. And I know that we make fun of it on this show all the time. There is honestly nothing I like more than making fun of New Zealand, but part of that may be because controversies over there are handled with charm and good cheer. How can you not love a country that has a contest to design a new flag for itself and someone submits this: a kiwi bird shooting lasers out of its eyes? My point is, New Zealand is amazing, and it is showing its strength in how it’s responded to this tragedy. The same, sadly, cannot be said for Australia’s Fraser Anning, a hard-line racist politician and melted candle of Ed Harris. We’ve actually talked about him before on this show, after he proposed a final solution to Muslim immigration. And his response to the Christchurch shooting was very much on brand. [Fraser Anning] This was the statement from an Australian senator: “The real cause of bloodshed on New Zealand streets “is the immigration program which allowed Muslim fanatics to migrate to New Zealand in the first place.” It goes on to say, “Muslims may have been the victims today. Usually they are the perpetrators.” Holy shit. That might be the worst possible response to what happened, because even if you responded by saying, “The Christchurch attack makes me wonder, “was ‘DuckTales’ supposed to be in Scotland or America? I’m guessing America, but when did Scrooge McDuck move?” I mean, you’re way off topic there, but you’re also not calling Muslims terrorists, so still a better response. Thankfully, there was immediate outcry following Anning’s comments, and one young Australian went a bit further. These sort of things happen. When people are getting attacked in their own– You weren’t seeing things there. The teenager smacked an egg on the senator’s head. You saw the senator fight back. The boy was led away by police. He’s reportedly been released. A fundraising page has been set up to collect donations to cover the teenager’s legal fees and to “buy more eggs.” “More eggs.” That is fantastic. And look, you might argue that an act like that has no place in politics, and I’m sure Fraser Anning is furious. He did punch that boy in the face. But I’ve prepared a statement in response on that. The real cause of Anning getting hit with an egg is Anning saying things that prompt people to throw eggs at him. He may be the victim today, but usually he’s a huge fucking asshole. But for now–for now, let’s move on to Brexit, which is, of course, a mash-up of the words “Britain,” “exit,” and “gone to shit.” Britain’s deadline to leave the EU is March 29th, just 12 days away now. The country’s had two years to prepare for this, so how’s it going? Well, this week was, to put it mildly, a little bumpy. To the casual observer, it may seem Westminster and our political leaders are in a bit of a mess over Brexit. Experts tend to disagree. They say it’s very much worse than that. Wow. Do you know how bad things have to be in Britain for something to be very much worse than a bit of a mess? Remember, this is a people who refer to three decades of sustained sectarian violence as “The Troubles,” which sounds like an adorable euphemism for an infant with diarrhea. “Oh, dear, it seems Alistair has come down with the troubles again.” But things are indeed a real mess. You remember in January, Theresa May presented to Parliament an agreement she made with the EU, not for a final Brexit deal, but just for a transition period, during which time that deal would be made. That plan was voted down in Parliament by historic margin. This week, she re-presented essentially the same deal with minor tweaks, and even supporters of the deal defended it in less than glowing terms. It’s a choice I do not want to have to make between–excuse my language, Mr. Speaker– a turd of a deal, which has now been taken away and polished and is now a polished turd. But it might be the best turd that we’ve got before us. Oh, my God. I only wish that right before the Brexit vote, a wormhole had opened up in time, so people could see that two years later, supporters of the plan to leave will be saying, “All of our options are turds. Come join me in my turd menagerie. “Select a turd that suits your fancy, “so we may ride that turd into a bold new era, an era of turds.” As if things weren’t already dumb enough, due to the UK’s stupid ban on using parliamentary footage for comedy, we once more cannot show that clip in Britain, so in place of it, they’ll be watching, with no explanation whatsoever, this clip from a 1980s dating video. Hi, my name is Mike, and if you’re sitting there watching this tape, smoking your cigarette, hit the fast-forward button, ’cause I don’t smoke and I don’t like people who do smoke. Wow. Hard swipe left from Mike there. That’s the point. Britain will get Mike the Non-Smoker followed by a long joke about turds, and they’ll have brought that on themselves. Unsurprisingly, May’s plan was voted down by Parliament on Tuesday, taking Britain closer to the worst-case scenario, the so-called “no-deal Brexit.” And the good news is, the next day, they voted in favor of a motion saying that, no matter what, Britain won’t leave the EU without a deal. The bad news is, that motion is non-binding. So it carries all the legal obligation of a wish painted onto a lantern and released into the deep purple of the star-dappled summertime sky. Or, as one European official put it… Just by saying we don’t want a no-deal Brexit doesn’t mean it doesn’t happen. Now, there isn’t an alternative, or if there isn’t an idea of what the alternative could be by the 29th of March, there might be a no-deal Brexit, even if nobody wants it. You know, European history is rife of moments where things happened that nobody wanted. Is it, though? I’m not saying European history isn’t rife with bad moments, but almost always, those things happened because people wanted them to, even people who might later say they didn’t want the things to happen. Many of them did. Not everyone’s grandpa was one of the good ones trying to prevent the things from happening. Look at the numbers. They couldn’t all have been one of the few good ones. Somebody’s grandpa must have wanted the things to happen, and here is the thing, it was yours. So Parliament decided that they didn’t want “no deal,” but they also didn’t want Theresa May’s deal. So in another non-binding wish lantern, they then resolved that May should ask the EU for an extension until June 30th. What would they do with that extra time? That’s unclear, and also, the EU would have to agree to it, all of which is so deeply confusing and frustrating, even journalists were snapping at cabinet ministers. Secretary of State, you know better than I do that Parliament is for once deeply representative of the country. It’s completely asunder. Nobody in the country knows what’s going on. Nobody in there knows what’s going on. And you know nothing, even inside the cabinet. The cabinet is at sea. The country’s at sea. – We are a laughingstock.\\nIs that a question? No, no. You know what? It’s not. It’s not actually a question, so let me take another stab at one. You really fucked up, right? See? There’s a question. There’s a question for you! The truth is, a bad Brexit outcome was guaranteed the minute the vote went final. There are not, nor will there ever be good Brexit options. So members of Parliament need to accept their options now are limited, as this MP, who voted for May’s deal, seems to have done. We were just discussing in my office how we would describe the current situation, and using good old Cumbrian terminology, we were really torn between whether it’s a pig’s ear, a dog’s dinner, or a cat’s arse. Okay, okay. Okay. First, fuck the dog’s dinner, marry the cat’s arse, and kill the pig’s ear. It’s easy. Unless, that is, you’re David Cameron, in which case, you marry the pig’s ear, ’cause you’ve fucked his face. You make an honest hog out of that swine corpse, ’cause you’re a good guy who’s in no way responsible for this entire mess. But I would actually argue that that MP has inadvertently hit upon the perfect metaphor for Britain’s choices right now. The pig’s ear is the decision to leave, because it’s absurd. The dog’s dinner is the exit plan, because it’s distasteful, but we have to swallow it, it’s all we’ve got. And the cat’s arse is the consequence of what we’ve done, because it’s shitty, but we’ll have to have it shoved in our faces repeatedly for a long fucking time to come. And now this. And now, in honor of St. Patrick’s Day, Sean Hannity celebrates his heritage. Okay. I’m hopefully optimistic. – I’m Irish. Don’t worry, it’s normal. – Oh, you are. I like fear as a motivator. And I’m Irish. I’m thinking the worst-case scenario.\\nMaybe it’s because I’m Irish, maybe ’cause I’m always expecting the worst. My grandparents came to this country from Ireland.\\nAll four of my grandparents came from Ireland. What is an Irish seven course meal? – What? – A six-pack and a potato. What’s an Irish seven course meal? – You tell me, bro. – A six-pack and a potato. Seven course meal, six-pack and a potato. Six-pack. Six-pack. Six-pack and a potato. A six-pack and a potato. I’d laugh. – That’s funny. – You never heard that? Excuse me. No, I never heard it. You know what an Irish seven course meal is? – A six-pack and a potato. – Is that right? Seven course meal is a six-pack and a potato. A six-pack and a potato, okay?\\nA six-pack and a potato. That’s funny. Moving on. Our main story tonight concerns public shaming, or as we call it in England, parenting. Thanks to the internet, it’s never been easier to pile onto a public shaming. In fact, it’s now one of America’s favorite pastimes. A Wisconsin family’s photo shoot’s gone viral, and it’s sparking outrage online.\\nA viral video leads to outrage on Long Island.\\nNow the outrage over another viral video.\\nThe outrage machine never seems to rest. As actress Sarah Michelle Gellar found out, some people online are just looking for an excuse to be angry. Wait, what did Sarah Michelle Gellar do? I’m already so angry about it! Actually, don’t tell me. I just realized I don’t care. The point is, this is a golden age of internet shaming, and you’ve probably participated in it if you’ve been mad at a potential Oscar host with shitty tweets, a company who made a blackface shirt, a beloved Irish actor who wanted to commit a racist murder, and aquarium that called an otter “thicc,” a gender reveal party that started a wildfire, whoever attacked Jussie Smollett, whoever didn’t believe Jussie Smollett, and finally, Jussie Smollett. We’re basically goldfish, except instead of discovering a new castle in our bowl every nine seconds we find something new to be outraged about online. You may be expecting me to say that all public shaming is bad, but I don’t actually think that. When it’s well-directed, a lot of good can come out of it. If someone’s caught doing something racist or someone powerful behaves badly, it can increase accountability. This week, it emerged that Tucker Carlson, the answer to the question, “What if the sound ‘thud’ grew a face?” had said some awful things on a radio show a few years prior. And to hear Tucks tell it, he was unfairly caught up in public shaming. [Tucker Carlson] The great American outrage machine is a remarkable thing. One day you’re having dinner with your family, imagining everything’s fine. The next, your phone is exploding with calls from reporters. First, no one having dinner with Tucker Carlson has ever imagined everything was fine. Most people’s answer to the question “If you could have dinner with anyone, living or dead” is Tucker Carlson, dead. And if you look into why Tucker was caught in that “outrage machine,” it’s because he publicly called Iraqis “semiliterate primitive monkeys,” compared women to dogs, and basically said that Warren Jeffs, who is serving a life sentence for the sexual assault of his underage brides, wasn’t that bad. Tucker refused to apologize and all week long, there’ve been trending hashtags like “boycott Tucker Carlson,” and “fire Tucker Carlson,” and “Tucker Carlson fucks his Roomba.” That one wasn’t technically trending, but I have this weird feeling that it will be in 20 minutes or so. And look, I would argue that Tucker is actually a good example of an internet pile-on being merited. He’s a public figure, he made his comments publicly, they are appalling, and he’s standing by them. But clearly, it’s not always that simple, because when misdirected, internet pile-ons can completely destroy people’s lives. So tonight, let’s try and talk about the power of public shaming, because often it is not a famous figure who’s on the receiving end of it. On a seemingly daily basis, ordinary people who did not ask for attention can get sucked into the spotlight, like this woman did a few years ago. They’re calling her the Aunt From Hell and the Auntie Christ.\\nAn aunt files suit against her 12-year-old nephew.\\nShe claims she broke her wrist when he jumped into her arms.\\nShe sued her young nephew for $127,000. That’s right, $127,000 over a hug.\\nHer defense was that when she goes to a cocktail party now, she actually said this, she can’t hold the plate when the hors d’oeuvres are passed. – Oh. – Because of her wrist. That sounds terrible, although I’ll say this. I know this isn’t the point, but everyone finds it difficult to hold an hors d’oeuvres plate. You have a plate in one hand and wine in the other. How do you eat? Do you grab food off the plate with your teeth, like some kind of trained horse? Do you hold the wine in your armpit and grab food with your other hand then spend the rest of the night drinking armpit wine? It’s an unsolvable puzzle. But look, it is pretty shitty to force a 12-year-old boy to pay six figures for hugging you enthusiastically. Which is, of course, why she didn’t actually do that. The real story is much more complicated. Very basically, her health insurance didn’t cover her massive medical bills. So to cover her costs, her best option was to go through her relative’s homeowner’s insurance. To do that, she had to name a person in a lawsuit, even though the kid and his family were completely fine with it, and they would not be required to pay. She actually went on “The Today Show” to explain all of this after the story blew up. Unfortunately, it didn’t seem to undo the damage. Maybe because even while she was discussing the actual facts, “The Today Show’s” graphics read, “Worst aunt ever speaks out.” Which doesn’t really help, does it? Meanwhile, she was being relentlessly attacked on the internet, meaning anyone Googling her in the future would likely be inundated by the inaccurate version of that story, which, as she’ll tell you, became a real problem when she was looking for work. It was very difficult to find another job. People reached out and then canceled interviews or then said, “Oh, we’ve changed our direction.” I’ve taken–had to take certain measures in order to reestablish myself. And I have a refreshed identity. That’s a pretty drastic measure to have to take. So to help her move past this, if you talk about the show tonight, remember to tag it with the hashtag “just a normal aunt.” Hashtag “aunt from not hell,” hashtag “Tucker Carlson fucks his Roomba.” And look, there was every reason for her to believe that refreshing her identity was necessary, because fully two months after she went on TV to correct the record, Fox News was having this discussion. Hashtag “worst aunt ever.” But I will tell you that she did then come on to one of the media outlets and say that she needed– she was injured, obviously, and wanted to sue her homeowner’s association, but had to–or homeowner’s insurance–and had to name him as the party and felt bad about it.\\nBy the way, she fell because he was so excited to see her. – He jumped up in her arms.\\nRight. “Auntie Jen, I love you! I love you!” What are you doing there? This is the worst aunt ever. But in all seriousness, she did the only thing she could have done and feels bad about it. But the important thing here is, she’s the worst aunt ever and… Now, I am not saying those television personalities are all terrible people. They just want to fill time more than they want to say things that are true. But at some point it’s incumbent on everyone to consider both context and consequences if you’re going to pile on in a shaming. And I’m not saying that anything here is easy. For instance, did I just publicly shame that lawyer in the last clip? Yeah, I probably did. And honestly, I’m absolutely fine with that. Just as I’ fine with calling him a human popped collar whose every facial expression says, “I only wish ‘Green Book’ had won more Oscars.” And look– look, let’s be honest. We make fun of people constantly on this show. It’s a comedy show. Although, for what it is worth, we do think, probably more carefully than you might imagine, about who we’re making fun of, why we’re doing it, and how. We ask ourselves questions like, “Should we use their name? How much power do they have?” and “Do they have a soul patch?” That last one can be a real deal breaker. And I’m not saying that we’re perfect at all. You might disagree with choices that we’ve made, but we’ve honestly thought about it. And sometimes the decision is difficult. Look at another major scandal that broke this week concerning fraud in college admissions. Actresses Felicity Huffman and Lori Loughlin among 33 wealthy parents accused of bribing coaches and administrators to get their kids into elite universities. Loughlin and her husband Mossimo Giannulli allegedly put up $1/2 million in exchange for getting their two daughters recruited to the USC crew team, even though they did not participate in crew. Okay, that is such a weird story. I don’t think anyone guessed that the next celebrity scandal would be Aunt Becky from “Full House” allegedly spends $1/2 million so a guy will pretend her daughters are good at boats. And incidentally, if that’s all true, “worst aunt ever.” Now, I have got– I have no problem– the truth is, I’ve got no problem making fun of the parents accused of doing that or the guy who ran that service. Where it gets more complicated is with the kids. How much is it fair to make fun of them? Well, I would argue that one of them, Olivia Jade, is a public figure. She has nearly 1 1/2 million followers on Instagram and has worked with all these companies. She’s actively made money off her brand as a fun, relatable college student, releasing videos like this. I don’t know how much of school I’m gonna attend, but I do want the experience of, like, game days, partying… I don’t really care about school, as you all know. Okay, so even before what we learned this week, that was a little tone-deaf, although not quite as tone-deaf as this sponsored post she made for Amazon, in which she’s decorated her dorm room at USC with the letters “OJ.” And if you don’t see a connection between the letters OJ and USC, maybe it should cost $1/2 million to get you in there. Now, I’m comfortable making those jokes. Am I comfortable with the whole internet piling on her? Honestly, that kind of depends on how and for how long. If it’s death threats and vile comments, then of course not. If it defines her forever, that seems unfair. The window for making fun of her is probably closing, although it should stay open just enough for me to tell you one person went to her Sephora makeup product page and left a one-star review reading, “I thought this would give me the ‘just came from crew practice,’ “‘spent hours rowing on the lake’ glow. Turns out it was all a sham!” Because that was excellent. Just mwah. But look, that is the difficult thing here. When joining in a pile-on, there’s a lot to take into account. And when millions of people all feel the need to weigh in and do it potentially for years, the punishment can be vastly disproportionate to the offense. And perhaps the best example of this is Monica Lewinsky. Two decades ago, this country put her through hell, as she’ll be the first to tell you. Overnight, I went from being a completely private figure to a publically humiliated one worldwide. I was patient zero of losing a personal reputation on a global scale almost instantaneously. Wow. That has to be terrifying. Although, in fairness, almost everything is scary when you add the phrase “on a global scale.” If I said, “Karen’s ophthalmologist “says she’s gonna need reading glasses on a global scale,” you would rightly think, “What the fuck is going on with Karen’s eyes?” But look, she’s not wrong. And if you’re hazy on the Monica Lewinsky story, at 22, she and President Clinton began a relationship that, long story short, ended up with graphic details being made public through the report by independent counsel Ken Starr. And it is impossible to overstate just how globally famous Monica and private details of her life became. The media obsessed over every angle of her story, from tabloid stories like these, to cartoons where microphones pointed at her face were replaced with penises, to endless late night comedy jokes. Look, my hands are not clean here, either. I wasn’t in the U.S. then, but ten years after the fact, I was in a “Daily Show” piece marking the 10th anniversary of the scandal above a graphic reading “Ten suckin’ years,” which is gross. It’s gross. And many comedians have since publically expressed regret about things they said, although one who hasn’t, and who was among the most relentless, was Jay Leno. Let’s see what’s going on with Monica or, as President Clinton calls her, “my little humidor.”\\n1 million samples of DNA. The largest collection of DNA in the world, not counting Monica Lewinsky’s closet.\\nAnd the humidity– man, I’ll tell you, people’s clothes are stickier than Monica Lewinsky’s. Man, it was just…\\nYou can’t get away without one of these: Lewinsky back on her feet. All right, ladies and gentlemen.\\nAnd the Grammy for Best Organ Recital went to Monica Lewinsky, ladies and gentlemen. Those jokes have not dated well in any sense of the word. And they’re pretty rough, especially coming from a guy who just this week complained about late night TV, saying he’d like to see “a bit of civility come back.” Like that time that he did a bit with a fake book about Lewinsky titled, “The Slut in the Hat.” And if that’s what he means by civility, may I offer my new book, “Oh, the Places You Can Go Fuck Yourself, Jay Leno!” Look–look how civil I’m being. Look how civil this is. And given all that, it’s frankly a miracle that Lewinsky seems to have emerged with her sense of humor, because when someone recently tweeted, “I don’t know who Monica Lewinsky is,” she replied, “I’m the chick from over 125 rap songs,” which is both very funny and also technically true, because she’s referenced in all these songs. We actually found 193 of them, and that is– and this may shock you– significantly more rap songs than have mentioned me. And to be honest, that kind of feels like a personal slight. You know what’s an easy name to rhyme? John. I’ll show you: begone, swan, Louis Vuitton, beef bourguignon, lots of options there. You know what’s also pretty tight rhyme-wise? Oliver. Don’t want a piece, I want all of her. Hittin’ all the spots like John Oliver. You can have that for free, rappers. You know what rhymes with Lewinsky? Almost nothing. But look, the point isn’t that I should be in more rap songs, although I absolutely should. It’s that Lewinsky went through absolute hell to get to the point where she could make that joke about being the woman from the rap songs. And it can be easy to forget just how ferocious and devastating the public attention was. Hey, pal, get your arms off her! I don’t even know how to begin to describe… What it was. But it was to see my face on TV, to–to read my name in the newspaper.\\nPeople have no idea what– what this has done. What this has done. Behind the name Monica Lewinsky, there’s a person and there is a family and there has been so much pain that has been caused by all this. And it is… It was so… Destructive, was so destructive. That’s horrifying, and it’s impossible to imagine how bad that was, but for a second, just try. Think of the dumbest thing you did in youth. Not the dumbest thing you got caught doing, the dumbest thing you did. The thing you stole, or cheated on, or accidentally sexted, and again, I am sorry, Mom. Now, imagine hearing about that every single day for decades on end. It’s a little bit of what it was like to be Monica Lewinsky. And I know everything about the subject of public shaming is complicated. But Monica Lewinsky might actually be the perfect person to remind all of us what the consequences can be to a misdirected flood of public anger. I know this because I sat down with Monica earlier this week, and this is what happened. 21 years ago, Monica Lewinsky was at the center of a media frenzy. In recent years, she’s reemerged as a major voice on online shaming and anti-bullying initiatives. And she was kind enough to recently sit down with me in a fancy apartment that neither of us live in. John Oliver: So in the last few years, you’ve been doing a lot of work related to bullying and people being shamed. You think the issue has gotten worse? Monica Lewinsky: Absolutely. I mean, I think that with the advent of the internet and, of course, social media, we now have situations where it’s exacerbated beyond, I think, what anybody could have imagined initially. And the anonymity that comes with that, that sort of unleashed these whole new personas for people. Oliver: Yeah, it’s sad, isn’t it? If you have a chance to come up with a second persona, you decide to come up with one that’s a fucking monster. Lewinsky: Yeah, exactly. “How much of an asshole can I be?”  Oliver: Exactly, “I’m gonna amplify every worst aspect of my personality by 100.” Would you agree that somewhere on the spectrum of shame, there can be positive effects to it? I’m just thinking about people whose bad behavior hurts others and who might not change it without public attention. Lewinsky: Yeah, it’s interesting. I’ve spent a lot of time thinking about this. And we tend to look at it as this kind of, um, like a binary question, right? Should we public shame or shouldn’t we? I do think there’s a spectrum of behavior on which we could kind of sort of judge as a society. Is this where shaming is effective to change social\\xa0 behavior or is it damaging? Oliver: You were on the receiving end of one of the worst internet-fueled public shamings of all time, …and hopefully, in a way, ever. Lewinsky: Mm-hmm. Oliver: How the fuck did you get through that? Lewinsky: Yeah. I, um… I don’t actually know. You know? Oliver: Really? Lewinsky: I mean, it was a shitstorm. It was an avalanche of pain and humiliation, and obviously, I could not have gotten through it without my family. And eventually when I was allowed to talk to my friends, my friends, too. And I think at 24 years old, it was, you know, really hard to hold on to a shred of dignity or self-esteem when, you know, you’re the butt of so many jokes and being misunderstood. Oliver: Right, as everything escalated, all the reaction to it, what’s it like to see this character of yourself that has your face and name, but bears less and less relevance to who you actually are? Lewinsky: Yeah, it was so bizarre. I mean, it was just–it was… I say extraordinary not with any positive connotation. And I think it was not only just the slut-shaming, not only, you know, having had an intimate relationship with someone who is now describing me in a way that no young woman would want to be described. Oliver: Sure. Lewinsky: There was just also my looks. I, you know, was very about the touch-ups and the makeup, ’cause I’m–like, part of my vanity now comes from just the wound of having been made fun of for my weight, for, you know, people saying I was unattractive. And it was terrifying, not only because I was watching myself or this version of myself running away from me. I mean, stolen. My identity was stolen in a different way. Not to say that I wasn’t flawed, that I didn’t make mistakes, or do stupid things, or say stupid things, because of course I did. Oliver: You were 22. Lewinsky: Right, so… Oliver: Every 22-year-old is some version of an idiot. Lewinsky: You just lost a lot of viewers, John. So… Oliver: That’s true. Just let me– Lewinsky: Cut that. Oliver: Not you. Whichever 22-year-old is listening now, not you. Lewinsky: Not you. But–so I mean, it’s not– it’s not like I was this, you know, perfect angel, right? But I watched this sort of deconstruction of me and rebuilding of me. It’s like a transformer, almost. Oliver: Many victims of public shaming say it affects their ability to earn a living. Did that happen to you? Lewinsky: Oh, 150%. I mean, I couldn’t get a job. Actually, it was, you know, it was interesting, because I went to graduate school in 2005 and graduated in 2006, and I thought, “Oh, okay, now I will begin my life.” I will now put being “Monica Lewinsky” behind me and move on to be so-and-so’s employee. And when I couldn’t find a job, you know, either someone offered me a job for the wrong reasons like, “Oh, you’ll be coming to our events. That’s your job, and there’s media there,” you know? Or it’s people saying to me, the opposite: “Could you get a letter of indemnification from the Clintons?” “We rely on government money and Hillary might be president.” So I mean, there was this wide range of not being able to support myself and also have a purpose, which is equally important, to feel that you matter in some way. Oliver: Is it tough sometimes just to get through– – A typical day? Lewinsky: Yes. The answer is yes. Whatever your question is, the answer is yes. Yes, it is tough anytime. Sorry. Oliver: That’s probably a fair response to basically most of the things here. Is it tough sometimes just to get through a typical day without having to deal with this shit? ‘Cause the ubiquity of references to you is incredible. Lewinsky: Yeah, it’s insane. I think, you know, and in part, a lot of that happened because of this, you know, sexist, really, thing that happened, which is that the scandal was named after me, became named after me. It meant that anytime that this has been referenced every single day, every single day in the past 20 years– so it may not be a direct reference to me, but because the investigation and the scandal has my name, I’m then therefore attached to it. Oliver: Did you ever consider changing your name? Lewinsky: There were several reasons I didn’t. I mean, first of all, I don’t think that it really would have even worked. Like, when I was job hunting, people even suggested, “Why don’t you put a different name on your CV when you’re…” I thought, so then I’m gonna walk into an office for an interview, and the person’s gonna be like, “What? That person looks like Monica Lewinsky.” And be wondering, and you’re starting a professional relationship on a lie. So there’s not that. And then lastly, I think it was also a principle. In the sense that Bill Clinton didn’t have to change his name. Nobody’s ever asked him, did he think he should change his name. And so I think that that was an important statement, you know? I’m not proud of all of the choices I’ve made in my life, but I’m proud of the person I am. I’m not ashamed of who I am. And I think that it’is– as hard as it’s been to have that last name sometimes and the pain that I have felt of what it’s meant for the other people in my family who have that last name… I am glad I didn’t change it. Oliver: I definitely don’t have your courage or strength of character– Lewinsky: You don’t know. I honestly, I really believe you don’t know that. Oliver: Oh, no, I already have a mental list of fake names that I’m going to do. Alvin, I like… It’s not a great name, but I think I can carry it off. Lewinsky: No, you actually could carry off Alvin. Oliver: Thank you, Monica. I think I could too. Lewinsky: But I don’t know about Alvin Oliver. That’s a lot. Oliver: True. That’s not great. My second one was Jacks, no surname, no explanation, just Jacks. Lewinsky: I like that. I could get behind that one. Oliver: So let’s talk a bit about, like, laughing, ’cause you joke about your experiences. How long did it take you to get to the point when you could do that? Lewinsky: I think there were stages, you know, or things that have happened a couple years ago. A friend of mine had– she and her friend had a 25th friend-iversary party, and they had met in the ’90s. So this party that they had for all their friends to celebrate their friendship, started in the ’90s, meant everybody had to come dressed from the ’90s. I was like, “Oh, shit,” you know. So I just thought, “Okay,” you know. So for the first time in about 18 years, I donned a black beret and went to my friend’s party. You know, in part, ’cause I thought it was funny. Oliver: Oh, it’s definitely funny. Lewinsky: Right. Oliver: Is that not a marker for actually having come a long way, though? That you’re able to actively participate in humor connected to what you went through, which, again, to reiterate, was clearly awful. Lewinsky: Yeah. Like, beret things, I can laugh at. Other item of clothing, jokes, not as much. Oliver: What is your experience of the internet now? ‘Cause you’re on Twitter now, and you’re very funny on there. Lewinsky: Thank you. Oliver: So how did you decide to go on it? I guess some of the times I get really deflated watching you tweet something funny and then making the mistake of scrolling down. Lewinsky: Oh, yeah. Oliver: It can become a sewer pretty fast. Lewinsky: Yeah, it can. I mean, I get a lot of empowerment out of blocking people. I wish people would not say shitty things, but they do. Right? Oliver: Sure. Lewinsky: And literally to me, it’s like, when I block someone, I’m, like, going… Oliver: Oh, really? Lewinsky: That’s what it feels like for me. I’m basically telling someone to fuck off. It feels great. I wish they hadn’t said something that would make me want to block them to begin with, but blocking is unbelievably empowering. Actually, I was lucky in some ways that social media wasn’t around. I think that would have made it worse in some ways– Oliver: Could it have made it worse? Lewinsky: Well– Oliver: Have you not maxed out how bad it could be? Do you really think it could have got worse?\\xa0 I guess– maybe. Lewinsky: You know what? I don’t know. It might have been worse in the sense that there certainly would have been a lot more opinions that were out there. But where it may have been better would have been that, I think, I would have heard some support from people. It might’ve been a bit more balanced. Oliver: So would it have been really meaningful to you, at the time, had social media been around just to have a stranger tweet something like, “I think what you’re going through is bullshit”? Lewinsky: Yeah, yeah, it would. Absolutely. Because one of the things that happens with these kinds of experiences is that you start to disappear. You start to feel like you don’t matter. And I think that when somebody sees you, you know, and just acknowledges your humanity in the smallest way, it can make a world of difference. And you don’t know, it could help save someone’s life, and that’s important. Oliver: What would your advice be to someone who’s either in the eye right now of the storm of public shaming or a kid who’s being humiliated at school, online? Is there anything you’d be able to tell them from your personal experience that nobody else could? Lewinsky: The first thing I’d probably say is that you can get through it, you can move move past it. I know it feels like in this one moment that your life will forever be defined by this, but it won’t. And it may be hard. It may take more time than you ever could have imagined, but you can move past something like this. Oliver: Monica Lewinsky, thank you so much for talking with me. Lewinsky: Thank you, Alvin Oliver. No, I’m kidding, sorry. Or Jacks. That’s our show. Thanks for watching. We’re off next week, back after that. Good night!'"
      ]
     },
     "execution_count": 11,
     "metadata": {},
     "output_type": "execute_result"
    }
   ],
   "source": [
    "# Let's take a look at the transcript for John oliver\n",
    "data_df.transcript.loc['John oliver']"
   ]
  },
  {
   "cell_type": "code",
   "execution_count": 12,
   "metadata": {},
   "outputs": [],
   "source": [
    "# Apply a first round of text cleaning techniques\n",
    "import re\n",
    "import string\n",
    "\n",
    "def clean_text_round1(text):\n",
    "    '''Make text lowercase, remove text in square brackets, remove punctuation and remove words containing numbers.'''\n",
    "    text = text.lower()\n",
    "    text = re.sub('\\[.*?\\]', '', text)\n",
    "    text = re.sub('[%s]' % re.escape(string.punctuation), '', text)\n",
    "    text = re.sub('\\w*\\d\\w*', '', text)\n",
    "    return text\n",
    "\n",
    "round1 = lambda x: clean_text_round1(x)"
   ]
  },
  {
   "cell_type": "code",
   "execution_count": 13,
   "metadata": {},
   "outputs": [
    {
     "data": {
      "text/html": [
       "<div>\n",
       "<style scoped>\n",
       "    .dataframe tbody tr th:only-of-type {\n",
       "        vertical-align: middle;\n",
       "    }\n",
       "\n",
       "    .dataframe tbody tr th {\n",
       "        vertical-align: top;\n",
       "    }\n",
       "\n",
       "    .dataframe thead th {\n",
       "        text-align: right;\n",
       "    }\n",
       "</style>\n",
       "<table border=\"1\" class=\"dataframe\">\n",
       "  <thead>\n",
       "    <tr style=\"text-align: right;\">\n",
       "      <th></th>\n",
       "      <th>transcript</th>\n",
       "    </tr>\n",
       "  </thead>\n",
       "  <tbody>\n",
       "    <tr>\n",
       "      <th>John oliver</th>\n",
       "      <td>last week tonight with john oliver\\naired on march   john oliver talks about the christchurch mosque shootings brexit and the power of public sham...</td>\n",
       "    </tr>\n",
       "    <tr>\n",
       "      <th>david denby</th>\n",
       "      <td>“   it’s easy to destroy the deer hunter you make it sound like a cartoon then you attack the cartoon for its shallowness   ” by david denby after...</td>\n",
       "    </tr>\n",
       "    <tr>\n",
       "      <th>pauline kael</th>\n",
       "      <td>interview conducted by susan goodman day one sitting in the living room of pauline kael’s home in western massachusetts i asked her if editors eve...</td>\n",
       "    </tr>\n",
       "  </tbody>\n",
       "</table>\n",
       "</div>"
      ],
      "text/plain": [
       "                                                                                                                                                         transcript\n",
       "John oliver   last week tonight with john oliver\\naired on march   john oliver talks about the christchurch mosque shootings brexit and the power of public sham...\n",
       "david denby   “   it’s easy to destroy the deer hunter you make it sound like a cartoon then you attack the cartoon for its shallowness   ” by david denby after...\n",
       "pauline kael  interview conducted by susan goodman day one sitting in the living room of pauline kael’s home in western massachusetts i asked her if editors eve..."
      ]
     },
     "execution_count": 13,
     "metadata": {},
     "output_type": "execute_result"
    }
   ],
   "source": [
    "# Let's take a look at the updated text\n",
    "data_clean = pd.DataFrame(data_df.transcript.apply(round1))\n",
    "data_clean"
   ]
  },
  {
   "cell_type": "code",
   "execution_count": 14,
   "metadata": {},
   "outputs": [],
   "source": [
    "# Apply a second round of cleaning\n",
    "def clean_text_round2(text):\n",
    "    '''Get rid of some additional punctuation and non-sensical text that was missed the first time around.'''\n",
    "    text = re.sub('[‘’“”…]', '', text)\n",
    "    text = re.sub('\\n', '', text)\n",
    "    return text\n",
    "\n",
    "round2 = lambda x: clean_text_round2(x)"
   ]
  },
  {
   "cell_type": "code",
   "execution_count": 15,
   "metadata": {},
   "outputs": [
    {
     "data": {
      "text/html": [
       "<div>\n",
       "<style scoped>\n",
       "    .dataframe tbody tr th:only-of-type {\n",
       "        vertical-align: middle;\n",
       "    }\n",
       "\n",
       "    .dataframe tbody tr th {\n",
       "        vertical-align: top;\n",
       "    }\n",
       "\n",
       "    .dataframe thead th {\n",
       "        text-align: right;\n",
       "    }\n",
       "</style>\n",
       "<table border=\"1\" class=\"dataframe\">\n",
       "  <thead>\n",
       "    <tr style=\"text-align: right;\">\n",
       "      <th></th>\n",
       "      <th>transcript</th>\n",
       "    </tr>\n",
       "  </thead>\n",
       "  <tbody>\n",
       "    <tr>\n",
       "      <th>John oliver</th>\n",
       "      <td>last week tonight with john oliveraired on march   john oliver talks about the christchurch mosque shootings brexit and the power of public shamin...</td>\n",
       "    </tr>\n",
       "    <tr>\n",
       "      <th>david denby</th>\n",
       "      <td>its easy to destroy the deer hunter you make it sound like a cartoon then you attack the cartoon for its shallowness    by david denby after th...</td>\n",
       "    </tr>\n",
       "    <tr>\n",
       "      <th>pauline kael</th>\n",
       "      <td>interview conducted by susan goodman day one sitting in the living room of pauline kaels home in western massachusetts i asked her if editors ever...</td>\n",
       "    </tr>\n",
       "  </tbody>\n",
       "</table>\n",
       "</div>"
      ],
      "text/plain": [
       "                                                                                                                                                         transcript\n",
       "John oliver   last week tonight with john oliveraired on march   john oliver talks about the christchurch mosque shootings brexit and the power of public shamin...\n",
       "david denby      its easy to destroy the deer hunter you make it sound like a cartoon then you attack the cartoon for its shallowness    by david denby after th...\n",
       "pauline kael  interview conducted by susan goodman day one sitting in the living room of pauline kaels home in western massachusetts i asked her if editors ever..."
      ]
     },
     "execution_count": 15,
     "metadata": {},
     "output_type": "execute_result"
    }
   ],
   "source": [
    "# Let's take a look at the updated text\n",
    "data_clean = pd.DataFrame(data_clean.transcript.apply(round2))\n",
    "data_clean"
   ]
  },
  {
   "cell_type": "markdown",
   "metadata": {},
   "source": [
    "**NOTE:** This data cleaning aka text pre-processing step could go on for a while, but we are going to stop for now. After going through some analysis techniques, if you see that the results don't make sense or could be improved, you can come back and make more edits such as:\n",
    "* Mark 'cheering' and 'cheer' as the same word (stemming / lemmatization)\n",
    "* Combine 'thank you' into one term (bi-grams)\n",
    "* And a lot more..."
   ]
  },
  {
   "cell_type": "markdown",
   "metadata": {},
   "source": [
    "## Organizing The Data"
   ]
  },
  {
   "cell_type": "markdown",
   "metadata": {},
   "source": [
    "I mentioned earlier that the output of this notebook will be clean, organized data in two standard text formats:\n",
    "1. **Corpus - **a collection of text\n",
    "2. **Document-Term Matrix - **word counts in matrix format"
   ]
  },
  {
   "cell_type": "markdown",
   "metadata": {},
   "source": [
    "### Corpus"
   ]
  },
  {
   "cell_type": "markdown",
   "metadata": {},
   "source": [
    "We already created a corpus in an earlier step. The definition of a corpus is a collection of texts, and they are all put together neatly in a pandas dataframe here."
   ]
  },
  {
   "cell_type": "code",
   "execution_count": 16,
   "metadata": {},
   "outputs": [
    {
     "data": {
      "text/html": [
       "<div>\n",
       "<style scoped>\n",
       "    .dataframe tbody tr th:only-of-type {\n",
       "        vertical-align: middle;\n",
       "    }\n",
       "\n",
       "    .dataframe tbody tr th {\n",
       "        vertical-align: top;\n",
       "    }\n",
       "\n",
       "    .dataframe thead th {\n",
       "        text-align: right;\n",
       "    }\n",
       "</style>\n",
       "<table border=\"1\" class=\"dataframe\">\n",
       "  <thead>\n",
       "    <tr style=\"text-align: right;\">\n",
       "      <th></th>\n",
       "      <th>transcript</th>\n",
       "    </tr>\n",
       "  </thead>\n",
       "  <tbody>\n",
       "    <tr>\n",
       "      <th>John oliver</th>\n",
       "      <td>Last Week Tonight with John Oliver\\nAired on March 17, 2019 John Oliver talks about the Christchurch mosque shootings, Brexit, and the power of pu...</td>\n",
       "    </tr>\n",
       "    <tr>\n",
       "      <th>david denby</th>\n",
       "      <td>“. . . It’s easy to destroy The Deer Hunter: You make it sound like a cartoon, then you attack the cartoon for its shallowness . . .” by David Den...</td>\n",
       "    </tr>\n",
       "    <tr>\n",
       "      <th>pauline kael</th>\n",
       "      <td>Interview conducted by Susan Goodman Day One: Sitting in the living room of Pauline Kael’s home in western Massachusetts, I asked her if editors e...</td>\n",
       "    </tr>\n",
       "  </tbody>\n",
       "</table>\n",
       "</div>"
      ],
      "text/plain": [
       "                                                                                                                                                         transcript\n",
       "John oliver   Last Week Tonight with John Oliver\\nAired on March 17, 2019 John Oliver talks about the Christchurch mosque shootings, Brexit, and the power of pu...\n",
       "david denby   “. . . It’s easy to destroy The Deer Hunter: You make it sound like a cartoon, then you attack the cartoon for its shallowness . . .” by David Den...\n",
       "pauline kael  Interview conducted by Susan Goodman Day One: Sitting in the living room of Pauline Kael’s home in western Massachusetts, I asked her if editors e..."
      ]
     },
     "execution_count": 16,
     "metadata": {},
     "output_type": "execute_result"
    }
   ],
   "source": [
    "# Let's take a look at our dataframe\n",
    "data_df"
   ]
  },
  {
   "cell_type": "code",
   "execution_count": 17,
   "metadata": {},
   "outputs": [
    {
     "data": {
      "text/html": [
       "<div>\n",
       "<style scoped>\n",
       "    .dataframe tbody tr th:only-of-type {\n",
       "        vertical-align: middle;\n",
       "    }\n",
       "\n",
       "    .dataframe tbody tr th {\n",
       "        vertical-align: top;\n",
       "    }\n",
       "\n",
       "    .dataframe thead th {\n",
       "        text-align: right;\n",
       "    }\n",
       "</style>\n",
       "<table border=\"1\" class=\"dataframe\">\n",
       "  <thead>\n",
       "    <tr style=\"text-align: right;\">\n",
       "      <th></th>\n",
       "      <th>transcript</th>\n",
       "      <th>full_name</th>\n",
       "    </tr>\n",
       "  </thead>\n",
       "  <tbody>\n",
       "    <tr>\n",
       "      <th>John oliver</th>\n",
       "      <td>Last Week Tonight with John Oliver\\nAired on March 17, 2019 John Oliver talks about the Christchurch mosque shootings, Brexit, and the power of pu...</td>\n",
       "      <td>John oliver</td>\n",
       "    </tr>\n",
       "    <tr>\n",
       "      <th>david denby</th>\n",
       "      <td>“. . . It’s easy to destroy The Deer Hunter: You make it sound like a cartoon, then you attack the cartoon for its shallowness . . .” by David Den...</td>\n",
       "      <td>pauline kael</td>\n",
       "    </tr>\n",
       "    <tr>\n",
       "      <th>pauline kael</th>\n",
       "      <td>Interview conducted by Susan Goodman Day One: Sitting in the living room of Pauline Kael’s home in western Massachusetts, I asked her if editors e...</td>\n",
       "      <td>david denby</td>\n",
       "    </tr>\n",
       "  </tbody>\n",
       "</table>\n",
       "</div>"
      ],
      "text/plain": [
       "                                                                                                                                                         transcript  \\\n",
       "John oliver   Last Week Tonight with John Oliver\\nAired on March 17, 2019 John Oliver talks about the Christchurch mosque shootings, Brexit, and the power of pu...   \n",
       "david denby   “. . . It’s easy to destroy The Deer Hunter: You make it sound like a cartoon, then you attack the cartoon for its shallowness . . .” by David Den...   \n",
       "pauline kael  Interview conducted by Susan Goodman Day One: Sitting in the living room of Pauline Kael’s home in western Massachusetts, I asked her if editors e...   \n",
       "\n",
       "                 full_name  \n",
       "John oliver    John oliver  \n",
       "david denby   pauline kael  \n",
       "pauline kael   david denby  "
      ]
     },
     "execution_count": 17,
     "metadata": {},
     "output_type": "execute_result"
    }
   ],
   "source": [
    "# Let's add the writers' full names as well\n",
    "full_names = ['John oliver', 'pauline kael', 'david denby']\n",
    "\n",
    "data_df['full_name'] = full_names\n",
    "data_df"
   ]
  },
  {
   "cell_type": "code",
   "execution_count": null,
   "metadata": {
    "collapsed": true
   },
   "outputs": [],
   "source": [
    "# Let's pickle it for later use\n",
    "data_df.to_pickle(\"corpus.pkl\")"
   ]
  },
  {
   "cell_type": "markdown",
   "metadata": {},
   "source": [
    "### Document-Term Matrix"
   ]
  },
  {
   "cell_type": "markdown",
   "metadata": {},
   "source": [
    "For many of the techniques we'll be using in future notebooks, the text must be tokenized, meaning broken down into smaller pieces. The most common tokenization technique is to break down text into words. We can do this using scikit-learn's CountVectorizer, where every row will represent a different document and every column will represent a different word.\n",
    "\n",
    "In addition, with CountVectorizer, we can remove stop words. Stop words are common words that add no additional meaning to text such as 'a', 'the', etc."
   ]
  },
  {
   "cell_type": "code",
   "execution_count": 18,
   "metadata": {},
   "outputs": [
    {
     "data": {
      "text/html": [
       "<div>\n",
       "<style scoped>\n",
       "    .dataframe tbody tr th:only-of-type {\n",
       "        vertical-align: middle;\n",
       "    }\n",
       "\n",
       "    .dataframe tbody tr th {\n",
       "        vertical-align: top;\n",
       "    }\n",
       "\n",
       "    .dataframe thead th {\n",
       "        text-align: right;\n",
       "    }\n",
       "</style>\n",
       "<table border=\"1\" class=\"dataframe\">\n",
       "  <thead>\n",
       "    <tr style=\"text-align: right;\">\n",
       "      <th></th>\n",
       "      <th>abiding</th>\n",
       "      <th>ability</th>\n",
       "      <th>able</th>\n",
       "      <th>absence</th>\n",
       "      <th>absolute</th>\n",
       "      <th>absolutely</th>\n",
       "      <th>absurd</th>\n",
       "      <th>academic</th>\n",
       "      <th>academy</th>\n",
       "      <th>accept</th>\n",
       "      <th>...</th>\n",
       "      <th>yorkers</th>\n",
       "      <th>youd</th>\n",
       "      <th>youll</th>\n",
       "      <th>young</th>\n",
       "      <th>younger</th>\n",
       "      <th>youre</th>\n",
       "      <th>youth</th>\n",
       "      <th>youve</th>\n",
       "      <th>zealand</th>\n",
       "      <th>zero</th>\n",
       "    </tr>\n",
       "  </thead>\n",
       "  <tbody>\n",
       "    <tr>\n",
       "      <th>John oliver</th>\n",
       "      <td>0</td>\n",
       "      <td>1</td>\n",
       "      <td>3</td>\n",
       "      <td>0</td>\n",
       "      <td>1</td>\n",
       "      <td>5</td>\n",
       "      <td>1</td>\n",
       "      <td>0</td>\n",
       "      <td>0</td>\n",
       "      <td>1</td>\n",
       "      <td>...</td>\n",
       "      <td>0</td>\n",
       "      <td>1</td>\n",
       "      <td>1</td>\n",
       "      <td>3</td>\n",
       "      <td>0</td>\n",
       "      <td>15</td>\n",
       "      <td>1</td>\n",
       "      <td>4</td>\n",
       "      <td>6</td>\n",
       "      <td>1</td>\n",
       "    </tr>\n",
       "    <tr>\n",
       "      <th>david denby</th>\n",
       "      <td>0</td>\n",
       "      <td>0</td>\n",
       "      <td>0</td>\n",
       "      <td>1</td>\n",
       "      <td>0</td>\n",
       "      <td>0</td>\n",
       "      <td>0</td>\n",
       "      <td>0</td>\n",
       "      <td>0</td>\n",
       "      <td>0</td>\n",
       "      <td>...</td>\n",
       "      <td>0</td>\n",
       "      <td>0</td>\n",
       "      <td>0</td>\n",
       "      <td>0</td>\n",
       "      <td>0</td>\n",
       "      <td>0</td>\n",
       "      <td>0</td>\n",
       "      <td>0</td>\n",
       "      <td>0</td>\n",
       "      <td>0</td>\n",
       "    </tr>\n",
       "    <tr>\n",
       "      <th>pauline kael</th>\n",
       "      <td>1</td>\n",
       "      <td>0</td>\n",
       "      <td>1</td>\n",
       "      <td>0</td>\n",
       "      <td>0</td>\n",
       "      <td>0</td>\n",
       "      <td>0</td>\n",
       "      <td>1</td>\n",
       "      <td>2</td>\n",
       "      <td>0</td>\n",
       "      <td>...</td>\n",
       "      <td>1</td>\n",
       "      <td>1</td>\n",
       "      <td>0</td>\n",
       "      <td>8</td>\n",
       "      <td>2</td>\n",
       "      <td>14</td>\n",
       "      <td>0</td>\n",
       "      <td>4</td>\n",
       "      <td>0</td>\n",
       "      <td>0</td>\n",
       "    </tr>\n",
       "  </tbody>\n",
       "</table>\n",
       "<p>3 rows × 2578 columns</p>\n",
       "</div>"
      ],
      "text/plain": [
       "              abiding  ability  able  absence  absolute  absolutely  absurd  \\\n",
       "John oliver         0        1     3        0         1           5       1   \n",
       "david denby         0        0     0        1         0           0       0   \n",
       "pauline kael        1        0     1        0         0           0       0   \n",
       "\n",
       "              academic  academy  accept  ...  yorkers  youd  youll  young  \\\n",
       "John oliver          0        0       1  ...        0     1      1      3   \n",
       "david denby          0        0       0  ...        0     0      0      0   \n",
       "pauline kael         1        2       0  ...        1     1      0      8   \n",
       "\n",
       "              younger  youre  youth  youve  zealand  zero  \n",
       "John oliver         0     15      1      4        6     1  \n",
       "david denby         0      0      0      0        0     0  \n",
       "pauline kael        2     14      0      4        0     0  \n",
       "\n",
       "[3 rows x 2578 columns]"
      ]
     },
     "execution_count": 18,
     "metadata": {},
     "output_type": "execute_result"
    }
   ],
   "source": [
    "# We are going to create a document-term matrix using CountVectorizer, and exclude common English stop words\n",
    "from sklearn.feature_extraction.text import CountVectorizer\n",
    "\n",
    "cv = CountVectorizer(stop_words='english')\n",
    "data_cv = cv.fit_transform(data_clean.transcript)\n",
    "data_dtm = pd.DataFrame(data_cv.toarray(), columns=cv.get_feature_names())\n",
    "data_dtm.index = data_clean.index\n",
    "data_dtm"
   ]
  },
  {
   "cell_type": "code",
   "execution_count": 20,
   "metadata": {},
   "outputs": [],
   "source": [
    "# Let's pickle it for later use\n",
    "data_dtm.to_pickle(\"dtm.pkl\")"
   ]
  },
  {
   "cell_type": "code",
   "execution_count": 21,
   "metadata": {},
   "outputs": [],
   "source": [
    "# Let's also pickle the cleaned data (before we put it in document-term matrix format) and the CountVectorizer object\n",
    "data_clean.to_pickle('data_clean.pkl')\n",
    "pickle.dump(cv, open(\"cv.pkl\", \"wb\"))"
   ]
  },
  {
   "cell_type": "code",
   "execution_count": 23,
   "metadata": {},
   "outputs": [
    {
     "data": {
      "text/html": [
       "<div>\n",
       "<style scoped>\n",
       "    .dataframe tbody tr th:only-of-type {\n",
       "        vertical-align: middle;\n",
       "    }\n",
       "\n",
       "    .dataframe tbody tr th {\n",
       "        vertical-align: top;\n",
       "    }\n",
       "\n",
       "    .dataframe thead th {\n",
       "        text-align: right;\n",
       "    }\n",
       "</style>\n",
       "<table border=\"1\" class=\"dataframe\">\n",
       "  <thead>\n",
       "    <tr style=\"text-align: right;\">\n",
       "      <th></th>\n",
       "      <th>transcript</th>\n",
       "    </tr>\n",
       "  </thead>\n",
       "  <tbody>\n",
       "    <tr>\n",
       "      <th>John oliver</th>\n",
       "      <td>last week tonight with john oliveraired on march   john oliver talks about the christchurch mosque shootings brexit and the power of public shamin...</td>\n",
       "    </tr>\n",
       "    <tr>\n",
       "      <th>david denby</th>\n",
       "      <td>its easy to destroy the deer hunter you make it sound like a cartoon then you attack the cartoon for its shallowness    by david denby after th...</td>\n",
       "    </tr>\n",
       "    <tr>\n",
       "      <th>pauline kael</th>\n",
       "      <td>interview conducted by susan goodman day one sitting in the living room of pauline kaels home in western massachusetts i asked her if editors ever...</td>\n",
       "    </tr>\n",
       "  </tbody>\n",
       "</table>\n",
       "</div>"
      ],
      "text/plain": [
       "                                                                                                                                                         transcript\n",
       "John oliver   last week tonight with john oliveraired on march   john oliver talks about the christchurch mosque shootings brexit and the power of public shamin...\n",
       "david denby      its easy to destroy the deer hunter you make it sound like a cartoon then you attack the cartoon for its shallowness    by david denby after th...\n",
       "pauline kael  interview conducted by susan goodman day one sitting in the living room of pauline kaels home in western massachusetts i asked her if editors ever..."
      ]
     },
     "execution_count": 23,
     "metadata": {},
     "output_type": "execute_result"
    }
   ],
   "source": [
    "data_clean"
   ]
  },
  {
   "cell_type": "code",
   "execution_count": null,
   "metadata": {},
   "outputs": [],
   "source": []
  }
 ],
 "metadata": {
  "kernelspec": {
   "display_name": "Python 3",
   "language": "python",
   "name": "python3"
  },
  "language_info": {
   "codemirror_mode": {
    "name": "ipython",
    "version": 3
   },
   "file_extension": ".py",
   "mimetype": "text/x-python",
   "name": "python",
   "nbconvert_exporter": "python",
   "pygments_lexer": "ipython3",
   "version": "3.7.6"
  },
  "toc": {
   "nav_menu": {},
   "number_sections": true,
   "sideBar": true,
   "skip_h1_title": false,
   "toc_cell": false,
   "toc_position": {},
   "toc_section_display": "block",
   "toc_window_display": false
  },
  "varInspector": {
   "cols": {
    "lenName": 16,
    "lenType": 16,
    "lenVar": 40
   },
   "kernels_config": {
    "python": {
     "delete_cmd_postfix": "",
     "delete_cmd_prefix": "del ",
     "library": "var_list.py",
     "varRefreshCmd": "print(var_dic_list())"
    },
    "r": {
     "delete_cmd_postfix": ") ",
     "delete_cmd_prefix": "rm(",
     "library": "var_list.r",
     "varRefreshCmd": "cat(var_dic_list()) "
    }
   },
   "types_to_exclude": [
    "module",
    "function",
    "builtin_function_or_method",
    "instance",
    "_Feature"
   ],
   "window_display": false
  }
 },
 "nbformat": 4,
 "nbformat_minor": 2
}
